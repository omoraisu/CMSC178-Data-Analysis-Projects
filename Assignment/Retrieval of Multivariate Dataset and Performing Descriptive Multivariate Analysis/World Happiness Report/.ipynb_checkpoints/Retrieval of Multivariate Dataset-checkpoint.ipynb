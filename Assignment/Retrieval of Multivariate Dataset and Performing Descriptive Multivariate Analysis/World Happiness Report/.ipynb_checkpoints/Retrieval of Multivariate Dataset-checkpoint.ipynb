{
 "cells": [
  {
   "cell_type": "markdown",
   "id": "d9e38721-d408-45ca-8b4b-620e57d7f921",
   "metadata": {},
   "source": [
    "**CMSC178DA**\n",
    "# ASSIGNMENT 1: Retrieval of Multivariate Dataset and Performing Descriptive Multivariate Analysis <br>"
   ]
  },
  {
   "cell_type": "markdown",
   "id": "84e9ba60-e659-4211-b2b4-9352d9a59649",
   "metadata": {},
   "source": [
    "## Submitted by:"
   ]
  },
  {
   "cell_type": "markdown",
   "id": "881673b7-2427-4a9f-b493-f6210f2c5350",
   "metadata": {},
   "source": [
    "Peladas, Daenielle Rai A. <br>\n",
    "Section B - TF 10:30 AM - 12:00 AM"
   ]
  },
  {
   "cell_type": "markdown",
   "id": "a296a04f-729a-4758-bbb6-defd5b9cabda",
   "metadata": {},
   "source": [
    "---"
   ]
  },
  {
   "cell_type": "markdown",
   "id": "9ffdc77d-12da-4dab-8b46-ff68c7e741aa",
   "metadata": {},
   "source": [
    "### About the Dataset "
   ]
  },
  {
   "cell_type": "markdown",
   "id": "1ea7d1ba-fd4f-4ea4-ac15-0487e55a9b6e",
   "metadata": {},
   "source": [
    "#### Source"
   ]
  },
  {
   "cell_type": "markdown",
   "id": "18ea8b5d-4aa3-4f8b-8a6e-f79163fbcc1c",
   "metadata": {},
   "source": [
    "**Dataset URL:** https://www.kaggle.com/datasets/ajaypalsinghlo/world-happiness-report-2024"
   ]
  },
  {
   "cell_type": "markdown",
   "id": "060cd40c-d6d4-4f23-8e44-5d82f825312b",
   "metadata": {},
   "source": [
    "#### Context"
   ]
  },
  {
   "cell_type": "markdown",
   "id": "884e24f4-6037-4345-af41-fdc37e6d6d39",
   "metadata": {},
   "source": [
    "The World Happiness Report is a landmark survey of the state of global happiness . The report continues to gain global recognition as governments, organizations and civil society increasingly use happiness indicators to inform their policy-making decisions. Leading experts across fields – economics, psychology, survey analysis, national statistics, health, public policy and more – describe how measurements of well-being can be used effectively to assess the progress of nations. The reports review the state of happiness in the world today and show how the new science of happiness explains personal and national variations in happiness."
   ]
  },
  {
   "cell_type": "markdown",
   "id": "e00d8758-b757-4194-b1a2-d96a73d47c76",
   "metadata": {},
   "source": [
    "#### Content"
   ]
  },
  {
   "cell_type": "markdown",
   "id": "67ebc0a7-bf33-47bb-bd4a-4b20808f198e",
   "metadata": {},
   "source": [
    "\n",
    "The happiness scores and rankings use data from the Gallup World Poll . The columns following the happiness score estimate the extent to which each of six factors – economic production, social support, life expectancy, freedom, absence of corruption, and generosity – contribute to making life evaluations higher in each country than they are in Dystopia, a hypothetical country that has values equal to the world’s lowest national averages for each of the six factors. They have no impact on the total score reported for each country, but they do explain why some countries rank higher than others."
   ]
  },
  {
   "cell_type": "markdown",
   "id": "4f8c63e6-eb30-4d17-a4ec-94875fda014a",
   "metadata": {},
   "source": [
    "---"
   ]
  },
  {
   "cell_type": "markdown",
   "id": "fff19c48-9631-4734-8b7c-7047575f50f6",
   "metadata": {},
   "source": [
    "### Import library"
   ]
  },
  {
   "cell_type": "code",
   "execution_count": 1,
   "id": "11811362-0a70-4b95-a5a8-84886061efef",
   "metadata": {},
   "outputs": [],
   "source": [
    "import pandas as pd\n",
    "# Allows all content in the column to be visible\n",
    "pd.set_option(\"max_colwidth\", None)"
   ]
  },
  {
   "cell_type": "markdown",
   "id": "2e1fcfd2-53ca-4664-b3c3-0a7f80236425",
   "metadata": {},
   "source": [
    "### Load dataset"
   ]
  },
  {
   "cell_type": "code",
   "execution_count": 2,
   "id": "bd79ff67-65a5-414e-8d07-c086b12c6597",
   "metadata": {},
   "outputs": [],
   "source": [
    "path = \"C:/Users/daeni/Desktop/LOVE/Academics/CMSC178DA/Assignment/Retrieval of Multivariate Dataset and Performing Descriptive Multivariate Analysis/World Happiness Report/WHR2024.csv\"\n",
    "df = pd.read_csv(path)"
   ]
  },
  {
   "cell_type": "code",
   "execution_count": 3,
   "id": "5aa99877-0c2e-49c2-afeb-45cf34db9b7b",
   "metadata": {},
   "outputs": [
    {
     "data": {
      "text/html": [
       "<div>\n",
       "<style scoped>\n",
       "    .dataframe tbody tr th:only-of-type {\n",
       "        vertical-align: middle;\n",
       "    }\n",
       "\n",
       "    .dataframe tbody tr th {\n",
       "        vertical-align: top;\n",
       "    }\n",
       "\n",
       "    .dataframe thead th {\n",
       "        text-align: right;\n",
       "    }\n",
       "</style>\n",
       "<table border=\"1\" class=\"dataframe\">\n",
       "  <thead>\n",
       "    <tr style=\"text-align: right;\">\n",
       "      <th></th>\n",
       "      <th>Country name</th>\n",
       "      <th>Ladder score</th>\n",
       "      <th>upperwhisker</th>\n",
       "      <th>lowerwhisker</th>\n",
       "      <th>Explained by: Log GDP per capita</th>\n",
       "      <th>Explained by: Social support</th>\n",
       "      <th>Explained by: Healthy life expectancy</th>\n",
       "      <th>Explained by: Freedom to make life choices</th>\n",
       "      <th>Explained by: Generosity</th>\n",
       "      <th>Explained by: Perceptions of corruption</th>\n",
       "      <th>Dystopia + residual</th>\n",
       "    </tr>\n",
       "  </thead>\n",
       "  <tbody>\n",
       "    <tr>\n",
       "      <th>0</th>\n",
       "      <td>Finland</td>\n",
       "      <td>7.741</td>\n",
       "      <td>7.815</td>\n",
       "      <td>7.667</td>\n",
       "      <td>1.844</td>\n",
       "      <td>1.572</td>\n",
       "      <td>0.695</td>\n",
       "      <td>0.859</td>\n",
       "      <td>0.142</td>\n",
       "      <td>0.546</td>\n",
       "      <td>2.082</td>\n",
       "    </tr>\n",
       "    <tr>\n",
       "      <th>1</th>\n",
       "      <td>Denmark</td>\n",
       "      <td>7.583</td>\n",
       "      <td>7.665</td>\n",
       "      <td>7.500</td>\n",
       "      <td>1.908</td>\n",
       "      <td>1.520</td>\n",
       "      <td>0.699</td>\n",
       "      <td>0.823</td>\n",
       "      <td>0.204</td>\n",
       "      <td>0.548</td>\n",
       "      <td>1.881</td>\n",
       "    </tr>\n",
       "    <tr>\n",
       "      <th>2</th>\n",
       "      <td>Iceland</td>\n",
       "      <td>7.525</td>\n",
       "      <td>7.618</td>\n",
       "      <td>7.433</td>\n",
       "      <td>1.881</td>\n",
       "      <td>1.617</td>\n",
       "      <td>0.718</td>\n",
       "      <td>0.819</td>\n",
       "      <td>0.258</td>\n",
       "      <td>0.182</td>\n",
       "      <td>2.050</td>\n",
       "    </tr>\n",
       "    <tr>\n",
       "      <th>3</th>\n",
       "      <td>Sweden</td>\n",
       "      <td>7.344</td>\n",
       "      <td>7.422</td>\n",
       "      <td>7.267</td>\n",
       "      <td>1.878</td>\n",
       "      <td>1.501</td>\n",
       "      <td>0.724</td>\n",
       "      <td>0.838</td>\n",
       "      <td>0.221</td>\n",
       "      <td>0.524</td>\n",
       "      <td>1.658</td>\n",
       "    </tr>\n",
       "    <tr>\n",
       "      <th>4</th>\n",
       "      <td>Israel</td>\n",
       "      <td>7.341</td>\n",
       "      <td>7.405</td>\n",
       "      <td>7.277</td>\n",
       "      <td>1.803</td>\n",
       "      <td>1.513</td>\n",
       "      <td>0.740</td>\n",
       "      <td>0.641</td>\n",
       "      <td>0.153</td>\n",
       "      <td>0.193</td>\n",
       "      <td>2.298</td>\n",
       "    </tr>\n",
       "  </tbody>\n",
       "</table>\n",
       "</div>"
      ],
      "text/plain": [
       "  Country name  Ladder score  upperwhisker  lowerwhisker  \\\n",
       "0      Finland         7.741         7.815         7.667   \n",
       "1      Denmark         7.583         7.665         7.500   \n",
       "2      Iceland         7.525         7.618         7.433   \n",
       "3       Sweden         7.344         7.422         7.267   \n",
       "4       Israel         7.341         7.405         7.277   \n",
       "\n",
       "   Explained by: Log GDP per capita  Explained by: Social support  \\\n",
       "0                             1.844                         1.572   \n",
       "1                             1.908                         1.520   \n",
       "2                             1.881                         1.617   \n",
       "3                             1.878                         1.501   \n",
       "4                             1.803                         1.513   \n",
       "\n",
       "   Explained by: Healthy life expectancy  \\\n",
       "0                                  0.695   \n",
       "1                                  0.699   \n",
       "2                                  0.718   \n",
       "3                                  0.724   \n",
       "4                                  0.740   \n",
       "\n",
       "   Explained by: Freedom to make life choices  Explained by: Generosity  \\\n",
       "0                                       0.859                     0.142   \n",
       "1                                       0.823                     0.204   \n",
       "2                                       0.819                     0.258   \n",
       "3                                       0.838                     0.221   \n",
       "4                                       0.641                     0.153   \n",
       "\n",
       "   Explained by: Perceptions of corruption  Dystopia + residual  \n",
       "0                                    0.546                2.082  \n",
       "1                                    0.548                1.881  \n",
       "2                                    0.182                2.050  \n",
       "3                                    0.524                1.658  \n",
       "4                                    0.193                2.298  "
      ]
     },
     "execution_count": 3,
     "metadata": {},
     "output_type": "execute_result"
    }
   ],
   "source": [
    "df.head()"
   ]
  },
  {
   "cell_type": "markdown",
   "id": "78ebd209-f768-4395-9861-36f1f4fa90b1",
   "metadata": {},
   "source": [
    "---"
   ]
  },
  {
   "cell_type": "markdown",
   "id": "c6abf36c-09c2-48e6-a40f-cd5dd982d267",
   "metadata": {},
   "source": [
    "### Dataset Attributes"
   ]
  },
  {
   "cell_type": "code",
   "execution_count": 4,
   "id": "81da4415-58ad-4960-9dfe-e79015e9f9b4",
   "metadata": {},
   "outputs": [
    {
     "data": {
      "text/plain": [
       "Index(['Country name', 'Ladder score', 'upperwhisker', 'lowerwhisker',\n",
       "       'Explained by: Log GDP per capita', 'Explained by: Social support',\n",
       "       'Explained by: Healthy life expectancy',\n",
       "       'Explained by: Freedom to make life choices',\n",
       "       'Explained by: Generosity', 'Explained by: Perceptions of corruption',\n",
       "       'Dystopia + residual'],\n",
       "      dtype='object')"
      ]
     },
     "execution_count": 4,
     "metadata": {},
     "output_type": "execute_result"
    }
   ],
   "source": [
    "df.columns"
   ]
  },
  {
   "cell_type": "code",
   "execution_count": 5,
   "id": "8d9b40a6-8b6e-4558-8505-3336aeb055e8",
   "metadata": {},
   "outputs": [],
   "source": [
    "# Renaming column names for readability\n",
    "headers = ['Country Name', 'Ladder Score', 'Upper Whisker', 'Lower Whisker', 'GDP per Capita',\n",
    "           'Social Support', 'Health Life Expectancy', 'Freedom to Make Life Choices', 'Generosity', \n",
    "           'Perceptions of Corruption', 'Dystopia']\n",
    "df.columns = headers"
   ]
  },
  {
   "cell_type": "code",
   "execution_count": 6,
   "id": "2370c8c4-c747-4e3c-8ad3-e977ada38ea7",
   "metadata": {},
   "outputs": [
    {
     "data": {
      "text/html": [
       "<div>\n",
       "<style scoped>\n",
       "    .dataframe tbody tr th:only-of-type {\n",
       "        vertical-align: middle;\n",
       "    }\n",
       "\n",
       "    .dataframe tbody tr th {\n",
       "        vertical-align: top;\n",
       "    }\n",
       "\n",
       "    .dataframe thead th {\n",
       "        text-align: right;\n",
       "    }\n",
       "</style>\n",
       "<table border=\"1\" class=\"dataframe\">\n",
       "  <thead>\n",
       "    <tr style=\"text-align: right;\">\n",
       "      <th></th>\n",
       "      <th>Country Name</th>\n",
       "      <th>Ladder Score</th>\n",
       "      <th>Upper Whisker</th>\n",
       "      <th>Lower Whisker</th>\n",
       "      <th>GDP per Capita</th>\n",
       "      <th>Social Support</th>\n",
       "      <th>Health Life Expectancy</th>\n",
       "      <th>Freedom to Make Life Choices</th>\n",
       "      <th>Generosity</th>\n",
       "      <th>Perceptions of Corruption</th>\n",
       "      <th>Dystopia</th>\n",
       "    </tr>\n",
       "  </thead>\n",
       "  <tbody>\n",
       "    <tr>\n",
       "      <th>0</th>\n",
       "      <td>Finland</td>\n",
       "      <td>7.741</td>\n",
       "      <td>7.815</td>\n",
       "      <td>7.667</td>\n",
       "      <td>1.844</td>\n",
       "      <td>1.572</td>\n",
       "      <td>0.695</td>\n",
       "      <td>0.859</td>\n",
       "      <td>0.142</td>\n",
       "      <td>0.546</td>\n",
       "      <td>2.082</td>\n",
       "    </tr>\n",
       "    <tr>\n",
       "      <th>1</th>\n",
       "      <td>Denmark</td>\n",
       "      <td>7.583</td>\n",
       "      <td>7.665</td>\n",
       "      <td>7.500</td>\n",
       "      <td>1.908</td>\n",
       "      <td>1.520</td>\n",
       "      <td>0.699</td>\n",
       "      <td>0.823</td>\n",
       "      <td>0.204</td>\n",
       "      <td>0.548</td>\n",
       "      <td>1.881</td>\n",
       "    </tr>\n",
       "    <tr>\n",
       "      <th>2</th>\n",
       "      <td>Iceland</td>\n",
       "      <td>7.525</td>\n",
       "      <td>7.618</td>\n",
       "      <td>7.433</td>\n",
       "      <td>1.881</td>\n",
       "      <td>1.617</td>\n",
       "      <td>0.718</td>\n",
       "      <td>0.819</td>\n",
       "      <td>0.258</td>\n",
       "      <td>0.182</td>\n",
       "      <td>2.050</td>\n",
       "    </tr>\n",
       "    <tr>\n",
       "      <th>3</th>\n",
       "      <td>Sweden</td>\n",
       "      <td>7.344</td>\n",
       "      <td>7.422</td>\n",
       "      <td>7.267</td>\n",
       "      <td>1.878</td>\n",
       "      <td>1.501</td>\n",
       "      <td>0.724</td>\n",
       "      <td>0.838</td>\n",
       "      <td>0.221</td>\n",
       "      <td>0.524</td>\n",
       "      <td>1.658</td>\n",
       "    </tr>\n",
       "    <tr>\n",
       "      <th>4</th>\n",
       "      <td>Israel</td>\n",
       "      <td>7.341</td>\n",
       "      <td>7.405</td>\n",
       "      <td>7.277</td>\n",
       "      <td>1.803</td>\n",
       "      <td>1.513</td>\n",
       "      <td>0.740</td>\n",
       "      <td>0.641</td>\n",
       "      <td>0.153</td>\n",
       "      <td>0.193</td>\n",
       "      <td>2.298</td>\n",
       "    </tr>\n",
       "  </tbody>\n",
       "</table>\n",
       "</div>"
      ],
      "text/plain": [
       "  Country Name  Ladder Score  Upper Whisker  Lower Whisker  GDP per Capita  \\\n",
       "0      Finland         7.741          7.815          7.667           1.844   \n",
       "1      Denmark         7.583          7.665          7.500           1.908   \n",
       "2      Iceland         7.525          7.618          7.433           1.881   \n",
       "3       Sweden         7.344          7.422          7.267           1.878   \n",
       "4       Israel         7.341          7.405          7.277           1.803   \n",
       "\n",
       "   Social Support  Health Life Expectancy  Freedom to Make Life Choices  \\\n",
       "0           1.572                   0.695                         0.859   \n",
       "1           1.520                   0.699                         0.823   \n",
       "2           1.617                   0.718                         0.819   \n",
       "3           1.501                   0.724                         0.838   \n",
       "4           1.513                   0.740                         0.641   \n",
       "\n",
       "   Generosity  Perceptions of Corruption  Dystopia  \n",
       "0       0.142                      0.546     2.082  \n",
       "1       0.204                      0.548     1.881  \n",
       "2       0.258                      0.182     2.050  \n",
       "3       0.221                      0.524     1.658  \n",
       "4       0.153                      0.193     2.298  "
      ]
     },
     "execution_count": 6,
     "metadata": {},
     "output_type": "execute_result"
    }
   ],
   "source": [
    "df.head()"
   ]
  },
  {
   "cell_type": "markdown",
   "id": "6065817f-6d55-4d8f-981f-84893eb1fab7",
   "metadata": {},
   "source": [
    "---"
   ]
  },
  {
   "cell_type": "markdown",
   "id": "a0f94bb9-dca0-4e05-ba1e-2cf877a244bc",
   "metadata": {},
   "source": [
    "### For Attribute and Description"
   ]
  },
  {
   "cell_type": "code",
   "execution_count": 7,
   "id": "9407926f-807f-4684-ba30-ff1e3897b015",
   "metadata": {},
   "outputs": [],
   "source": [
    "# Creating a new dataframe containing the df attributes and their description \n",
    "columns = [\"Attribute/Variable\", \"Description\"]\n",
    "df_attr = pd.DataFrame(columns=columns)"
   ]
  },
  {
   "cell_type": "code",
   "execution_count": 8,
   "id": "5fb1fde0-50ec-468b-91f5-c2cd7f5fcba2",
   "metadata": {},
   "outputs": [],
   "source": [
    "# Setting Attribute/Variable to the columns in the dataframe\n",
    "df_attr[\"Attribute/Variable\"] = df.columns"
   ]
  },
  {
   "cell_type": "code",
   "execution_count": 22,
   "id": "d2f5cbf3-1a62-4a17-84e6-73bb03103262",
   "metadata": {},
   "outputs": [],
   "source": [
    "# Adding the description of each attribute\n",
    "desc = [\"Name of country.\",\n",
    "        \"A metric measured in 2024 by asking the sampled people the question: 'How would you rate your happiness on a scale of 0 to 10 where 10 is the happiest?'\", \n",
    "        \"Upper Confidence Interval of the Happiness Score.\",\n",
    "        \"Lower Confidence Interval of the Happiness Score.\",\n",
    "        \"Level of economic output that contributes to a country's happiness score.\",\n",
    "        \"Strength of social relationships that contributes to a country's happiness score.\",\n",
    "        \"Average life expectancy at birth that contributes to a country's happiness score.\",\n",
    "        \"Level of personal freedom that contributes to a country's happiness score.\",\n",
    "        \"Prevalence of charitable behavior that contributes to a country's happiness score.\",\n",
    "        \"Perception of corruption in government and business that contributes to a country's happiness score.\",\n",
    "        \"The theoretical happiness level of a hypothetical country with the lowest possible scores on all six factors used in the index.\"]\n",
    "df_attr[\"Description\"] = desc"
   ]
  },
  {
   "cell_type": "code",
   "execution_count": 23,
   "id": "420d9a3d-7c1c-443e-a00e-82f8c3b4c977",
   "metadata": {},
   "outputs": [
    {
     "data": {
      "text/html": [
       "<div>\n",
       "<style scoped>\n",
       "    .dataframe tbody tr th:only-of-type {\n",
       "        vertical-align: middle;\n",
       "    }\n",
       "\n",
       "    .dataframe tbody tr th {\n",
       "        vertical-align: top;\n",
       "    }\n",
       "\n",
       "    .dataframe thead th {\n",
       "        text-align: right;\n",
       "    }\n",
       "</style>\n",
       "<table border=\"1\" class=\"dataframe\">\n",
       "  <thead>\n",
       "    <tr style=\"text-align: right;\">\n",
       "      <th></th>\n",
       "      <th>Attribute/Variable</th>\n",
       "      <th>Description</th>\n",
       "    </tr>\n",
       "  </thead>\n",
       "  <tbody>\n",
       "    <tr>\n",
       "      <th>0</th>\n",
       "      <td>Country Name</td>\n",
       "      <td>Name of country.</td>\n",
       "    </tr>\n",
       "    <tr>\n",
       "      <th>1</th>\n",
       "      <td>Ladder Score</td>\n",
       "      <td>A metric measured in 2024 by asking the sampled people the question: 'How would you rate your happiness on a scale of 0 to 10 where 10 is the happiest?'</td>\n",
       "    </tr>\n",
       "    <tr>\n",
       "      <th>2</th>\n",
       "      <td>Upper Whisker</td>\n",
       "      <td>Upper Confidence Interval of the Happiness Score.</td>\n",
       "    </tr>\n",
       "    <tr>\n",
       "      <th>3</th>\n",
       "      <td>Lower Whisker</td>\n",
       "      <td>Lower Confidence Interval of the Happiness Score.</td>\n",
       "    </tr>\n",
       "    <tr>\n",
       "      <th>4</th>\n",
       "      <td>GDP per Capita</td>\n",
       "      <td>Level of economic output that contributes to a country's happiness score.</td>\n",
       "    </tr>\n",
       "    <tr>\n",
       "      <th>5</th>\n",
       "      <td>Social Support</td>\n",
       "      <td>Strength of social relationships that contributes to a country's happiness score.</td>\n",
       "    </tr>\n",
       "    <tr>\n",
       "      <th>6</th>\n",
       "      <td>Health Life Expectancy</td>\n",
       "      <td>Average life expectancy at birth that contributes to a country's happiness score.</td>\n",
       "    </tr>\n",
       "    <tr>\n",
       "      <th>7</th>\n",
       "      <td>Freedom to Make Life Choices</td>\n",
       "      <td>Level of personal freedom that contributes to a country's happiness score.</td>\n",
       "    </tr>\n",
       "    <tr>\n",
       "      <th>8</th>\n",
       "      <td>Generosity</td>\n",
       "      <td>Prevalence of charitable behavior that contributes to a country's happiness score.</td>\n",
       "    </tr>\n",
       "    <tr>\n",
       "      <th>9</th>\n",
       "      <td>Perceptions of Corruption</td>\n",
       "      <td>Perception of corruption in government and business that contributes to a country's happiness score.</td>\n",
       "    </tr>\n",
       "    <tr>\n",
       "      <th>10</th>\n",
       "      <td>Dystopia</td>\n",
       "      <td>The theoretical happiness level of a hypothetical country with the lowest possible scores on all six factors used in the index.</td>\n",
       "    </tr>\n",
       "  </tbody>\n",
       "</table>\n",
       "</div>"
      ],
      "text/plain": [
       "              Attribute/Variable  \\\n",
       "0                   Country Name   \n",
       "1                   Ladder Score   \n",
       "2                  Upper Whisker   \n",
       "3                  Lower Whisker   \n",
       "4                 GDP per Capita   \n",
       "5                 Social Support   \n",
       "6         Health Life Expectancy   \n",
       "7   Freedom to Make Life Choices   \n",
       "8                     Generosity   \n",
       "9      Perceptions of Corruption   \n",
       "10                      Dystopia   \n",
       "\n",
       "                                                                                                                                                 Description  \n",
       "0                                                                                                                                           Name of country.  \n",
       "1   A metric measured in 2024 by asking the sampled people the question: 'How would you rate your happiness on a scale of 0 to 10 where 10 is the happiest?'  \n",
       "2                                                                                                          Upper Confidence Interval of the Happiness Score.  \n",
       "3                                                                                                          Lower Confidence Interval of the Happiness Score.  \n",
       "4                                                                                  Level of economic output that contributes to a country's happiness score.  \n",
       "5                                                                          Strength of social relationships that contributes to a country's happiness score.  \n",
       "6                                                                          Average life expectancy at birth that contributes to a country's happiness score.  \n",
       "7                                                                                 Level of personal freedom that contributes to a country's happiness score.  \n",
       "8                                                                         Prevalence of charitable behavior that contributes to a country's happiness score.  \n",
       "9                                                       Perception of corruption in government and business that contributes to a country's happiness score.  \n",
       "10                           The theoretical happiness level of a hypothetical country with the lowest possible scores on all six factors used in the index.  "
      ]
     },
     "execution_count": 23,
     "metadata": {},
     "output_type": "execute_result"
    }
   ],
   "source": [
    "df_attr"
   ]
  },
  {
   "cell_type": "code",
   "execution_count": 24,
   "id": "6cf412b9-6896-458d-b613-8ff9d2ca55ea",
   "metadata": {},
   "outputs": [],
   "source": [
    "df_attr.to_excel(\"AttributeDescription.xlsx\")"
   ]
  },
  {
   "cell_type": "markdown",
   "id": "4b0970fe-b6de-4351-8ee2-392c4abc2a1d",
   "metadata": {},
   "source": [
    "---"
   ]
  },
  {
   "cell_type": "markdown",
   "id": "434ef16d-1a84-4c1f-a8b9-3241f67f4e48",
   "metadata": {},
   "source": [
    "### Calculating Descriptive Measures"
   ]
  },
  {
   "cell_type": "code",
   "execution_count": 12,
   "id": "e45ddd75-4eb5-43fb-a914-e800079f4041",
   "metadata": {},
   "outputs": [],
   "source": [
    "# Returns description of entire dataframe with numerical values \n",
    "desc_stats = df.describe()"
   ]
  },
  {
   "cell_type": "code",
   "execution_count": 13,
   "id": "45f9c3cf-afd3-4778-8d27-dd9d4dda16b3",
   "metadata": {},
   "outputs": [],
   "source": [
    "# Transposing dataframe\n",
    "desc_stats = desc_stats.T"
   ]
  },
  {
   "cell_type": "code",
   "execution_count": 14,
   "id": "972bbc63-028f-4e73-8c4e-7e78a55df4be",
   "metadata": {},
   "outputs": [
    {
     "data": {
      "text/plain": [
       "Index(['count', 'mean', 'std', 'min', '25%', '50%', '75%', 'max'], dtype='object')"
      ]
     },
     "execution_count": 14,
     "metadata": {},
     "output_type": "execute_result"
    }
   ],
   "source": [
    "# Getting the current columns of the description statistics\n",
    "desc_stats.columns"
   ]
  },
  {
   "cell_type": "code",
   "execution_count": 15,
   "id": "6d8cbb14-dc6f-4e94-bc58-53b43f0fe55a",
   "metadata": {},
   "outputs": [],
   "source": [
    "# Remove unwanted columns\n",
    "cols_to_remove = ['count', 'min', '25%', '75%', 'max'] \n",
    "desc_stats = desc_stats.drop(columns=cols_to_remove) "
   ]
  },
  {
   "cell_type": "code",
   "execution_count": 16,
   "id": "070e6d0c-555a-438c-9d08-59f3c7e97b8f",
   "metadata": {},
   "outputs": [],
   "source": [
    "# Rearranging the remaining columns\n",
    "desc_stats = desc_stats[[\"mean\", \"50%\", \"std\"]]"
   ]
  },
  {
   "cell_type": "code",
   "execution_count": 17,
   "id": "9ca2e5c7-0702-4716-bc93-da376cf4d99a",
   "metadata": {},
   "outputs": [],
   "source": [
    "# Inserting the value for variance which was not described earlier\n",
    "# Variance = std^2 \n",
    "desc_stats.insert(loc=2, column=\"variance\", value=desc_stats[\"std\"]**2)"
   ]
  },
  {
   "cell_type": "code",
   "execution_count": 18,
   "id": "e6c44458-49f5-49fa-8ffb-eba5f995a0bd",
   "metadata": {},
   "outputs": [],
   "source": [
    "# Inserting the value of the coefficient of variation which was not described earlier\n",
    "# coef = (std/mean) * 100\n",
    "desc_stats.insert(loc=4, column=\"coef\", value=(desc_stats[\"std\"]/desc_stats[\"mean\"])*100)"
   ]
  },
  {
   "cell_type": "code",
   "execution_count": 19,
   "id": "2da80fea-e3ff-4bdd-8cd3-4004eae4e6fd",
   "metadata": {},
   "outputs": [],
   "source": [
    "# Replacing header names for readability and uniformity \n",
    "desc_stats_headers = [\"Mean\", \"Median\", \"Variance\", \"Standard Deviation\", \"Coefficient of Variation\"]\n",
    "desc_stats.columns = desc_stats_headers"
   ]
  },
  {
   "cell_type": "code",
   "execution_count": 20,
   "id": "9a33fa43-f275-4a5c-84e7-7f0f0fffb6c1",
   "metadata": {},
   "outputs": [
    {
     "data": {
      "text/html": [
       "<div>\n",
       "<style scoped>\n",
       "    .dataframe tbody tr th:only-of-type {\n",
       "        vertical-align: middle;\n",
       "    }\n",
       "\n",
       "    .dataframe tbody tr th {\n",
       "        vertical-align: top;\n",
       "    }\n",
       "\n",
       "    .dataframe thead th {\n",
       "        text-align: right;\n",
       "    }\n",
       "</style>\n",
       "<table border=\"1\" class=\"dataframe\">\n",
       "  <thead>\n",
       "    <tr style=\"text-align: right;\">\n",
       "      <th></th>\n",
       "      <th>Mean</th>\n",
       "      <th>Median</th>\n",
       "      <th>Variance</th>\n",
       "      <th>Standard Deviation</th>\n",
       "      <th>Coefficient of Variation</th>\n",
       "    </tr>\n",
       "  </thead>\n",
       "  <tbody>\n",
       "    <tr>\n",
       "      <th>Ladder Score</th>\n",
       "      <td>5.527580</td>\n",
       "      <td>5.7850</td>\n",
       "      <td>1.370577</td>\n",
       "      <td>1.170717</td>\n",
       "      <td>21.179547</td>\n",
       "    </tr>\n",
       "    <tr>\n",
       "      <th>Upper Whisker</th>\n",
       "      <td>5.641175</td>\n",
       "      <td>5.8950</td>\n",
       "      <td>1.334044</td>\n",
       "      <td>1.155008</td>\n",
       "      <td>20.474603</td>\n",
       "    </tr>\n",
       "    <tr>\n",
       "      <th>Lower Whisker</th>\n",
       "      <td>5.413972</td>\n",
       "      <td>5.6740</td>\n",
       "      <td>1.409284</td>\n",
       "      <td>1.187133</td>\n",
       "      <td>21.927207</td>\n",
       "    </tr>\n",
       "    <tr>\n",
       "      <th>GDP per Capita</th>\n",
       "      <td>1.378807</td>\n",
       "      <td>1.4315</td>\n",
       "      <td>0.180709</td>\n",
       "      <td>0.425098</td>\n",
       "      <td>30.830877</td>\n",
       "    </tr>\n",
       "    <tr>\n",
       "      <th>Social Support</th>\n",
       "      <td>1.134329</td>\n",
       "      <td>1.2375</td>\n",
       "      <td>0.111100</td>\n",
       "      <td>0.333317</td>\n",
       "      <td>29.384531</td>\n",
       "    </tr>\n",
       "    <tr>\n",
       "      <th>Health Life Expectancy</th>\n",
       "      <td>0.520886</td>\n",
       "      <td>0.5495</td>\n",
       "      <td>0.027199</td>\n",
       "      <td>0.164923</td>\n",
       "      <td>31.661941</td>\n",
       "    </tr>\n",
       "    <tr>\n",
       "      <th>Freedom to Make Life Choices</th>\n",
       "      <td>0.620621</td>\n",
       "      <td>0.6410</td>\n",
       "      <td>0.026404</td>\n",
       "      <td>0.162492</td>\n",
       "      <td>26.182115</td>\n",
       "    </tr>\n",
       "    <tr>\n",
       "      <th>Generosity</th>\n",
       "      <td>0.146271</td>\n",
       "      <td>0.1365</td>\n",
       "      <td>0.005394</td>\n",
       "      <td>0.073441</td>\n",
       "      <td>50.208913</td>\n",
       "    </tr>\n",
       "    <tr>\n",
       "      <th>Perceptions of Corruption</th>\n",
       "      <td>0.154121</td>\n",
       "      <td>0.1205</td>\n",
       "      <td>0.015936</td>\n",
       "      <td>0.126238</td>\n",
       "      <td>81.908261</td>\n",
       "    </tr>\n",
       "    <tr>\n",
       "      <th>Dystopia</th>\n",
       "      <td>1.575914</td>\n",
       "      <td>1.6445</td>\n",
       "      <td>0.288862</td>\n",
       "      <td>0.537459</td>\n",
       "      <td>34.104552</td>\n",
       "    </tr>\n",
       "  </tbody>\n",
       "</table>\n",
       "</div>"
      ],
      "text/plain": [
       "                                  Mean  Median  Variance  Standard Deviation  \\\n",
       "Ladder Score                  5.527580  5.7850  1.370577            1.170717   \n",
       "Upper Whisker                 5.641175  5.8950  1.334044            1.155008   \n",
       "Lower Whisker                 5.413972  5.6740  1.409284            1.187133   \n",
       "GDP per Capita                1.378807  1.4315  0.180709            0.425098   \n",
       "Social Support                1.134329  1.2375  0.111100            0.333317   \n",
       "Health Life Expectancy        0.520886  0.5495  0.027199            0.164923   \n",
       "Freedom to Make Life Choices  0.620621  0.6410  0.026404            0.162492   \n",
       "Generosity                    0.146271  0.1365  0.005394            0.073441   \n",
       "Perceptions of Corruption     0.154121  0.1205  0.015936            0.126238   \n",
       "Dystopia                      1.575914  1.6445  0.288862            0.537459   \n",
       "\n",
       "                              Coefficient of Variation  \n",
       "Ladder Score                                 21.179547  \n",
       "Upper Whisker                                20.474603  \n",
       "Lower Whisker                                21.927207  \n",
       "GDP per Capita                               30.830877  \n",
       "Social Support                               29.384531  \n",
       "Health Life Expectancy                       31.661941  \n",
       "Freedom to Make Life Choices                 26.182115  \n",
       "Generosity                                   50.208913  \n",
       "Perceptions of Corruption                    81.908261  \n",
       "Dystopia                                     34.104552  "
      ]
     },
     "execution_count": 20,
     "metadata": {},
     "output_type": "execute_result"
    }
   ],
   "source": [
    "desc_stats"
   ]
  },
  {
   "cell_type": "code",
   "execution_count": 21,
   "id": "8876ffb1-5308-4c4c-8b81-8e1328371778",
   "metadata": {},
   "outputs": [],
   "source": [
    "desc_stats.to_excel('DescriptiveSummaryWHR2024.xlsx')"
   ]
  },
  {
   "cell_type": "code",
   "execution_count": null,
   "id": "6a031781-94c4-4e1e-89ee-6069d17c8f28",
   "metadata": {},
   "outputs": [],
   "source": []
  }
 ],
 "metadata": {
  "kernelspec": {
   "display_name": "Python 3 (ipykernel)",
   "language": "python",
   "name": "python3"
  },
  "language_info": {
   "codemirror_mode": {
    "name": "ipython",
    "version": 3
   },
   "file_extension": ".py",
   "mimetype": "text/x-python",
   "name": "python",
   "nbconvert_exporter": "python",
   "pygments_lexer": "ipython3",
   "version": "3.12.3"
  }
 },
 "nbformat": 4,
 "nbformat_minor": 5
}
