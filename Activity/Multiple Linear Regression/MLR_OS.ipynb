{
 "cells": [
  {
   "cell_type": "markdown",
   "id": "92177e10-139e-4fc9-a454-5be18e27eea7",
   "metadata": {},
   "source": [
    "**CMSC178DA**\n",
    "# ACTIVITY 4: Applying Multiple Linear Regression Analysis to Multivariate Data <br>"
   ]
  },
  {
   "cell_type": "markdown",
   "id": "f039f571-84ab-4099-915f-fa0d7658bfbb",
   "metadata": {},
   "source": [
    "## Submitted by:"
   ]
  },
  {
   "cell_type": "markdown",
   "id": "2818dc90-f02f-442b-b5bf-f0cac0674bc4",
   "metadata": {},
   "source": [
    "Peladas, Daenielle Rai A. <br>\n",
    "Section B - TF 10:30 AM - 12:00 AM"
   ]
  },
  {
   "cell_type": "markdown",
   "id": "011ce820-ac14-4a7f-ac76-c1373ef743a8",
   "metadata": {},
   "source": [
    "---"
   ]
  },
  {
   "cell_type": "markdown",
   "id": "4556aaef-561a-4170-a6de-27c6a86ab9f1",
   "metadata": {},
   "source": [
    "## The Case "
   ]
  },
  {
   "cell_type": "markdown",
   "id": "bf3ea79d-fb50-4edd-a52c-1e37fae696bf",
   "metadata": {},
   "source": [
    "Let us reuse the performance data on remote procedure call (RPC) mechanism for two (2)\n",
    "mainframe operating systems (OS) - UNIX and ARGUS – in Activity 3. The performance metric\n",
    "was total elapsed time (in milliseconds), which was measured for various data sizes (see Table 1).\n",
    "**Fit a multiple linear regression model that combine the sample measurements on total elapsed\n",
    "time in processing with various data sizes for the two OSes.**"
   ]
  },
  {
   "cell_type": "markdown",
   "id": "99f25fd7-4775-4a39-9a4f-a832b4bf24ea",
   "metadata": {},
   "source": [
    "---"
   ]
  },
  {
   "cell_type": "markdown",
   "id": "b968de9b-d062-449e-979f-bbf6dddf3962",
   "metadata": {},
   "source": [
    "## Import Dataset"
   ]
  },
  {
   "cell_type": "markdown",
   "id": "6d15ae36-6d1d-4089-a665-9eebc3243293",
   "metadata": {},
   "source": [
    "### Import Library"
   ]
  },
  {
   "cell_type": "code",
   "execution_count": 294,
   "id": "1593b99b-6514-4580-ad28-7dbc844cc33f",
   "metadata": {
    "tags": []
   },
   "outputs": [],
   "source": [
    "import pandas as pd\n",
    "import numpy as np"
   ]
  },
  {
   "cell_type": "markdown",
   "id": "57d5c362-109f-4dfe-b2f6-966fde22f245",
   "metadata": {},
   "source": [
    "### Read CSV"
   ]
  },
  {
   "cell_type": "code",
   "execution_count": 297,
   "id": "7b00b640-0258-40de-a3e3-67ecc12d34ad",
   "metadata": {
    "tags": []
   },
   "outputs": [],
   "source": [
    "path = r\"C:\\Users\\daeni\\Desktop\\LOVE\\Academics\\CMSC178DA/Activity/Multiple Linear Regression/os_concat_rpc.csv\"\n",
    "df = pd.read_csv(path)"
   ]
  },
  {
   "cell_type": "code",
   "execution_count": 299,
   "id": "c4b47844-4965-48d4-9c21-e33c866e4d4c",
   "metadata": {
    "tags": []
   },
   "outputs": [
    {
     "data": {
      "text/html": [
       "<div>\n",
       "<style scoped>\n",
       "    .dataframe tbody tr th:only-of-type {\n",
       "        vertical-align: middle;\n",
       "    }\n",
       "\n",
       "    .dataframe tbody tr th {\n",
       "        vertical-align: top;\n",
       "    }\n",
       "\n",
       "    .dataframe thead th {\n",
       "        text-align: right;\n",
       "    }\n",
       "</style>\n",
       "<table border=\"1\" class=\"dataframe\">\n",
       "  <thead>\n",
       "    <tr style=\"text-align: right;\">\n",
       "      <th></th>\n",
       "      <th>Data Bytes</th>\n",
       "      <th>Time</th>\n",
       "      <th>OS</th>\n",
       "    </tr>\n",
       "  </thead>\n",
       "  <tbody>\n",
       "    <tr>\n",
       "      <th>0</th>\n",
       "      <td>64</td>\n",
       "      <td>26.4</td>\n",
       "      <td>Unix</td>\n",
       "    </tr>\n",
       "    <tr>\n",
       "      <th>1</th>\n",
       "      <td>64</td>\n",
       "      <td>26.4</td>\n",
       "      <td>Unix</td>\n",
       "    </tr>\n",
       "    <tr>\n",
       "      <th>2</th>\n",
       "      <td>64</td>\n",
       "      <td>26.4</td>\n",
       "      <td>Unix</td>\n",
       "    </tr>\n",
       "    <tr>\n",
       "      <th>3</th>\n",
       "      <td>64</td>\n",
       "      <td>26.2</td>\n",
       "      <td>Unix</td>\n",
       "    </tr>\n",
       "    <tr>\n",
       "      <th>4</th>\n",
       "      <td>234</td>\n",
       "      <td>33.8</td>\n",
       "      <td>Unix</td>\n",
       "    </tr>\n",
       "  </tbody>\n",
       "</table>\n",
       "</div>"
      ],
      "text/plain": [
       "   Data Bytes  Time    OS\n",
       "0          64  26.4  Unix\n",
       "1          64  26.4  Unix\n",
       "2          64  26.4  Unix\n",
       "3          64  26.2  Unix\n",
       "4         234  33.8  Unix"
      ]
     },
     "execution_count": 299,
     "metadata": {},
     "output_type": "execute_result"
    }
   ],
   "source": [
    "df.drop(\"Unnamed: 0\", axis=1).head()"
   ]
  },
  {
   "cell_type": "markdown",
   "id": "6eac4e63-1c6c-4222-b511-7112f9fd944b",
   "metadata": {},
   "source": [
    "#### One Hot Encoding the OS"
   ]
  },
  {
   "cell_type": "code",
   "execution_count": 304,
   "id": "96479ec2-0292-4895-bfca-6401eca7a3cb",
   "metadata": {
    "tags": []
   },
   "outputs": [],
   "source": [
    "df['OS'] = df['OS'].map({'Argus': 0, 'Unix': 1})"
   ]
  },
  {
   "cell_type": "code",
   "execution_count": 306,
   "id": "02c22665-03ba-4697-af66-9e3318c4cd26",
   "metadata": {
    "tags": []
   },
   "outputs": [
    {
     "data": {
      "text/html": [
       "<div>\n",
       "<style scoped>\n",
       "    .dataframe tbody tr th:only-of-type {\n",
       "        vertical-align: middle;\n",
       "    }\n",
       "\n",
       "    .dataframe tbody tr th {\n",
       "        vertical-align: top;\n",
       "    }\n",
       "\n",
       "    .dataframe thead th {\n",
       "        text-align: right;\n",
       "    }\n",
       "</style>\n",
       "<table border=\"1\" class=\"dataframe\">\n",
       "  <thead>\n",
       "    <tr style=\"text-align: right;\">\n",
       "      <th></th>\n",
       "      <th>Data Bytes</th>\n",
       "      <th>Time</th>\n",
       "      <th>OS</th>\n",
       "    </tr>\n",
       "  </thead>\n",
       "  <tbody>\n",
       "    <tr>\n",
       "      <th>0</th>\n",
       "      <td>64</td>\n",
       "      <td>26.4</td>\n",
       "      <td>1</td>\n",
       "    </tr>\n",
       "    <tr>\n",
       "      <th>1</th>\n",
       "      <td>64</td>\n",
       "      <td>26.4</td>\n",
       "      <td>1</td>\n",
       "    </tr>\n",
       "    <tr>\n",
       "      <th>2</th>\n",
       "      <td>64</td>\n",
       "      <td>26.4</td>\n",
       "      <td>1</td>\n",
       "    </tr>\n",
       "    <tr>\n",
       "      <th>3</th>\n",
       "      <td>64</td>\n",
       "      <td>26.2</td>\n",
       "      <td>1</td>\n",
       "    </tr>\n",
       "    <tr>\n",
       "      <th>4</th>\n",
       "      <td>234</td>\n",
       "      <td>33.8</td>\n",
       "      <td>1</td>\n",
       "    </tr>\n",
       "    <tr>\n",
       "      <th>5</th>\n",
       "      <td>590</td>\n",
       "      <td>41.6</td>\n",
       "      <td>1</td>\n",
       "    </tr>\n",
       "    <tr>\n",
       "      <th>6</th>\n",
       "      <td>846</td>\n",
       "      <td>50.0</td>\n",
       "      <td>1</td>\n",
       "    </tr>\n",
       "    <tr>\n",
       "      <th>7</th>\n",
       "      <td>1060</td>\n",
       "      <td>48.4</td>\n",
       "      <td>1</td>\n",
       "    </tr>\n",
       "    <tr>\n",
       "      <th>8</th>\n",
       "      <td>1082</td>\n",
       "      <td>49.0</td>\n",
       "      <td>1</td>\n",
       "    </tr>\n",
       "    <tr>\n",
       "      <th>9</th>\n",
       "      <td>1088</td>\n",
       "      <td>42.0</td>\n",
       "      <td>1</td>\n",
       "    </tr>\n",
       "    <tr>\n",
       "      <th>10</th>\n",
       "      <td>1088</td>\n",
       "      <td>41.8</td>\n",
       "      <td>1</td>\n",
       "    </tr>\n",
       "    <tr>\n",
       "      <th>11</th>\n",
       "      <td>1088</td>\n",
       "      <td>41.8</td>\n",
       "      <td>1</td>\n",
       "    </tr>\n",
       "    <tr>\n",
       "      <th>12</th>\n",
       "      <td>1088</td>\n",
       "      <td>42.0</td>\n",
       "      <td>1</td>\n",
       "    </tr>\n",
       "    <tr>\n",
       "      <th>13</th>\n",
       "      <td>92</td>\n",
       "      <td>32.8</td>\n",
       "      <td>0</td>\n",
       "    </tr>\n",
       "    <tr>\n",
       "      <th>14</th>\n",
       "      <td>92</td>\n",
       "      <td>34.2</td>\n",
       "      <td>0</td>\n",
       "    </tr>\n",
       "    <tr>\n",
       "      <th>15</th>\n",
       "      <td>92</td>\n",
       "      <td>32.4</td>\n",
       "      <td>0</td>\n",
       "    </tr>\n",
       "    <tr>\n",
       "      <th>16</th>\n",
       "      <td>92</td>\n",
       "      <td>34.4</td>\n",
       "      <td>0</td>\n",
       "    </tr>\n",
       "    <tr>\n",
       "      <th>17</th>\n",
       "      <td>348</td>\n",
       "      <td>41.4</td>\n",
       "      <td>0</td>\n",
       "    </tr>\n",
       "    <tr>\n",
       "      <th>18</th>\n",
       "      <td>604</td>\n",
       "      <td>51.2</td>\n",
       "      <td>0</td>\n",
       "    </tr>\n",
       "    <tr>\n",
       "      <th>19</th>\n",
       "      <td>860</td>\n",
       "      <td>76.0</td>\n",
       "      <td>0</td>\n",
       "    </tr>\n",
       "    <tr>\n",
       "      <th>20</th>\n",
       "      <td>1074</td>\n",
       "      <td>80.8</td>\n",
       "      <td>0</td>\n",
       "    </tr>\n",
       "    <tr>\n",
       "      <th>21</th>\n",
       "      <td>1074</td>\n",
       "      <td>79.8</td>\n",
       "      <td>0</td>\n",
       "    </tr>\n",
       "    <tr>\n",
       "      <th>22</th>\n",
       "      <td>1088</td>\n",
       "      <td>58.6</td>\n",
       "      <td>0</td>\n",
       "    </tr>\n",
       "    <tr>\n",
       "      <th>23</th>\n",
       "      <td>1088</td>\n",
       "      <td>57.6</td>\n",
       "      <td>0</td>\n",
       "    </tr>\n",
       "    <tr>\n",
       "      <th>24</th>\n",
       "      <td>1088</td>\n",
       "      <td>59.8</td>\n",
       "      <td>0</td>\n",
       "    </tr>\n",
       "    <tr>\n",
       "      <th>25</th>\n",
       "      <td>1088</td>\n",
       "      <td>57.4</td>\n",
       "      <td>0</td>\n",
       "    </tr>\n",
       "  </tbody>\n",
       "</table>\n",
       "</div>"
      ],
      "text/plain": [
       "    Data Bytes  Time  OS\n",
       "0           64  26.4   1\n",
       "1           64  26.4   1\n",
       "2           64  26.4   1\n",
       "3           64  26.2   1\n",
       "4          234  33.8   1\n",
       "5          590  41.6   1\n",
       "6          846  50.0   1\n",
       "7         1060  48.4   1\n",
       "8         1082  49.0   1\n",
       "9         1088  42.0   1\n",
       "10        1088  41.8   1\n",
       "11        1088  41.8   1\n",
       "12        1088  42.0   1\n",
       "13          92  32.8   0\n",
       "14          92  34.2   0\n",
       "15          92  32.4   0\n",
       "16          92  34.4   0\n",
       "17         348  41.4   0\n",
       "18         604  51.2   0\n",
       "19         860  76.0   0\n",
       "20        1074  80.8   0\n",
       "21        1074  79.8   0\n",
       "22        1088  58.6   0\n",
       "23        1088  57.6   0\n",
       "24        1088  59.8   0\n",
       "25        1088  57.4   0"
      ]
     },
     "execution_count": 306,
     "metadata": {},
     "output_type": "execute_result"
    }
   ],
   "source": [
    "df.drop(\"Unnamed: 0\", axis=1)"
   ]
  },
  {
   "cell_type": "markdown",
   "id": "07bfbd7b-8234-4172-ad6f-02df9079287e",
   "metadata": {
    "tags": []
   },
   "source": [
    "## Model Development"
   ]
  },
  {
   "cell_type": "markdown",
   "id": "0143b118-64de-4767-83c5-25dac3643ef1",
   "metadata": {},
   "source": [
    "### Import libraries"
   ]
  },
  {
   "cell_type": "code",
   "execution_count": 230,
   "id": "1e80d8d7-7999-48e0-b62e-8b09f630bd52",
   "metadata": {
    "tags": []
   },
   "outputs": [],
   "source": [
    "from sklearn.linear_model import LinearRegression\n",
    "from sklearn.metrics import mean_squared_error\n",
    "import seaborn as sns\n",
    "import matplotlib.pyplot as plt"
   ]
  },
  {
   "cell_type": "markdown",
   "id": "0479a6ce-6913-4a96-816f-cf7f42ea7742",
   "metadata": {},
   "source": [
    "### Visualization"
   ]
  },
  {
   "cell_type": "code",
   "execution_count": 308,
   "id": "aa7c4973-f71a-411b-b433-b5c952ab21f3",
   "metadata": {
    "tags": []
   },
   "outputs": [
    {
     "data": {
      "text/plain": [
       "Text(0.5, 1.0, 'Data bytes size as a potential predictor of time')"
      ]
     },
     "execution_count": 308,
     "metadata": {},
     "output_type": "execute_result"
    },
    {
     "data": {
      "image/png": "[encoded data removed]",
      "text/plain": [
       "<Figure size 640x480 with 1 Axes>"
      ]
     },
     "metadata": {},
     "output_type": "display_data"
    }
   ],
   "source": [
    "sns.regplot(x=\"Data Bytes\", y=\"Time\", data=df, color='purple')\n",
    "plt.ylim(0,)\n",
    "plt.savefig(\"regplot\")\n",
    "plt.title(\"Data bytes size as a potential predictor of time\")"
   ]
  },
  {
   "cell_type": "code",
   "execution_count": 310,
   "id": "f5c00858-7b71-45f3-a677-6acbaad2b308",
   "metadata": {
    "tags": []
   },
   "outputs": [
    {
     "data": {
      "image/png": "[encoded data removed]",
      "text/plain": [
       "<Figure size 640x480 with 1 Axes>"
      ]
     },
     "metadata": {},
     "output_type": "display_data"
    }
   ],
   "source": [
    "sns.boxplot(x=\"OS\", y=\"Time\", data=df, palette='magma')\n",
    "plt.ylim(0,)\n",
    "plt.title(\"OS type as a potential predictor of time\")\n",
    "plt.savefig(\"boxplot.png\")"
   ]
  },
  {
   "cell_type": "markdown",
   "id": "bbc67ce5-8e58-465a-803f-d936a0919214",
   "metadata": {},
   "source": [
    "### Model Building"
   ]
  },
  {
   "cell_type": "code",
   "execution_count": 238,
   "id": "cdad9ad6-b355-4b64-b43c-02c30538ff92",
   "metadata": {
    "tags": []
   },
   "outputs": [
    {
     "data": {
      "text/html": [
       "<style>#sk-container-id-3 {color: black;}#sk-container-id-3 pre{padding: 0;}#sk-container-id-3 div.sk-toggleable {background-color: white;}#sk-container-id-3 label.sk-toggleable__label {cursor: pointer;display: block;width: 100%;margin-bottom: 0;padding: 0.3em;box-sizing: border-box;text-align: center;}#sk-container-id-3 label.sk-toggleable__label-arrow:before {content: \"▸\";float: left;margin-right: 0.25em;color: #696969;}#sk-container-id-3 label.sk-toggleable__label-arrow:hover:before {color: black;}#sk-container-id-3 div.sk-estimator:hover label.sk-toggleable__label-arrow:before {color: black;}#sk-container-id-3 div.sk-toggleable__content {max-height: 0;max-width: 0;overflow: hidden;text-align: left;background-color: #f0f8ff;}#sk-container-id-3 div.sk-toggleable__content pre {margin: 0.2em;color: black;border-radius: 0.25em;background-color: #f0f8ff;}#sk-container-id-3 input.sk-toggleable__control:checked~div.sk-toggleable__content {max-height: 200px;max-width: 100%;overflow: auto;}#sk-container-id-3 input.sk-toggleable__control:checked~label.sk-toggleable__label-arrow:before {content: \"▾\";}#sk-container-id-3 div.sk-estimator input.sk-toggleable__control:checked~label.sk-toggleable__label {background-color: #d4ebff;}#sk-container-id-3 div.sk-label input.sk-toggleable__control:checked~label.sk-toggleable__label {background-color: #d4ebff;}#sk-container-id-3 input.sk-hidden--visually {border: 0;clip: rect(1px 1px 1px 1px);clip: rect(1px, 1px, 1px, 1px);height: 1px;margin: -1px;overflow: hidden;padding: 0;position: absolute;width: 1px;}#sk-container-id-3 div.sk-estimator {font-family: monospace;background-color: #f0f8ff;border: 1px dotted black;border-radius: 0.25em;box-sizing: border-box;margin-bottom: 0.5em;}#sk-container-id-3 div.sk-estimator:hover {background-color: #d4ebff;}#sk-container-id-3 div.sk-parallel-item::after {content: \"\";width: 100%;border-bottom: 1px solid gray;flex-grow: 1;}#sk-container-id-3 div.sk-label:hover label.sk-toggleable__label {background-color: #d4ebff;}#sk-container-id-3 div.sk-serial::before {content: \"\";position: absolute;border-left: 1px solid gray;box-sizing: border-box;top: 0;bottom: 0;left: 50%;z-index: 0;}#sk-container-id-3 div.sk-serial {display: flex;flex-direction: column;align-items: center;background-color: white;padding-right: 0.2em;padding-left: 0.2em;position: relative;}#sk-container-id-3 div.sk-item {position: relative;z-index: 1;}#sk-container-id-3 div.sk-parallel {display: flex;align-items: stretch;justify-content: center;background-color: white;position: relative;}#sk-container-id-3 div.sk-item::before, #sk-container-id-3 div.sk-parallel-item::before {content: \"\";position: absolute;border-left: 1px solid gray;box-sizing: border-box;top: 0;bottom: 0;left: 50%;z-index: -1;}#sk-container-id-3 div.sk-parallel-item {display: flex;flex-direction: column;z-index: 1;position: relative;background-color: white;}#sk-container-id-3 div.sk-parallel-item:first-child::after {align-self: flex-end;width: 50%;}#sk-container-id-3 div.sk-parallel-item:last-child::after {align-self: flex-start;width: 50%;}#sk-container-id-3 div.sk-parallel-item:only-child::after {width: 0;}#sk-container-id-3 div.sk-dashed-wrapped {border: 1px dashed gray;margin: 0 0.4em 0.5em 0.4em;box-sizing: border-box;padding-bottom: 0.4em;background-color: white;}#sk-container-id-3 div.sk-label label {font-family: monospace;font-weight: bold;display: inline-block;line-height: 1.2em;}#sk-container-id-3 div.sk-label-container {text-align: center;}#sk-container-id-3 div.sk-container {/* jupyter's `normalize.less` sets `[hidden] { display: none; }` but bootstrap.min.css set `[hidden] { display: none !important; }` so we also need the `!important` here to be able to override the default hidden behavior on the sphinx rendered scikit-learn.org. See: https://github.com/scikit-learn/scikit-learn/issues/21755 */display: inline-block !important;position: relative;}#sk-container-id-3 div.sk-text-repr-fallback {display: none;}</style><div id=\"sk-container-id-3\" class=\"sk-top-container\"><div class=\"sk-text-repr-fallback\"><pre>LinearRegression()</pre><b>In a Jupyter environment, please rerun this cell to show the HTML representation or trust the notebook. <br />On GitHub, the HTML representation is unable to render, please try loading this page with nbviewer.org.</b></div><div class=\"sk-container\" hidden><div class=\"sk-item\"><div class=\"sk-estimator sk-toggleable\"><input class=\"sk-toggleable__control sk-hidden--visually\" id=\"sk-estimator-id-3\" type=\"checkbox\" checked><label for=\"sk-estimator-id-3\" class=\"sk-toggleable__label sk-toggleable__label-arrow\">LinearRegression</label><div class=\"sk-toggleable__content\"><pre>LinearRegression()</pre></div></div></div></div></div>"
      ],
      "text/plain": [
       "LinearRegression()"
      ]
     },
     "execution_count": 238,
     "metadata": {},
     "output_type": "execute_result"
    }
   ],
   "source": [
    "lm = LinearRegression()\n",
    "lm"
   ]
  },
  {
   "cell_type": "code",
   "execution_count": 240,
   "id": "ccc195df-f5ff-40ad-b97c-1453022f878d",
   "metadata": {
    "tags": []
   },
   "outputs": [],
   "source": [
    "# Predictor and target values\n",
    "features = df[[\"Data Bytes\", \"OS\"]]\n",
    "target = df[\"Time\"]"
   ]
  },
  {
   "cell_type": "code",
   "execution_count": 242,
   "id": "4714cbe3-2800-4ab1-a075-54c2ded1a869",
   "metadata": {
    "tags": []
   },
   "outputs": [
    {
     "data": {
      "text/html": [
       "<style>#sk-container-id-4 {color: black;}#sk-container-id-4 pre{padding: 0;}#sk-container-id-4 div.sk-toggleable {background-color: white;}#sk-container-id-4 label.sk-toggleable__label {cursor: pointer;display: block;width: 100%;margin-bottom: 0;padding: 0.3em;box-sizing: border-box;text-align: center;}#sk-container-id-4 label.sk-toggleable__label-arrow:before {content: \"▸\";float: left;margin-right: 0.25em;color: #696969;}#sk-container-id-4 label.sk-toggleable__label-arrow:hover:before {color: black;}#sk-container-id-4 div.sk-estimator:hover label.sk-toggleable__label-arrow:before {color: black;}#sk-container-id-4 div.sk-toggleable__content {max-height: 0;max-width: 0;overflow: hidden;text-align: left;background-color: #f0f8ff;}#sk-container-id-4 div.sk-toggleable__content pre {margin: 0.2em;color: black;border-radius: 0.25em;background-color: #f0f8ff;}#sk-container-id-4 input.sk-toggleable__control:checked~div.sk-toggleable__content {max-height: 200px;max-width: 100%;overflow: auto;}#sk-container-id-4 input.sk-toggleable__control:checked~label.sk-toggleable__label-arrow:before {content: \"▾\";}#sk-container-id-4 div.sk-estimator input.sk-toggleable__control:checked~label.sk-toggleable__label {background-color: #d4ebff;}#sk-container-id-4 div.sk-label input.sk-toggleable__control:checked~label.sk-toggleable__label {background-color: #d4ebff;}#sk-container-id-4 input.sk-hidden--visually {border: 0;clip: rect(1px 1px 1px 1px);clip: rect(1px, 1px, 1px, 1px);height: 1px;margin: -1px;overflow: hidden;padding: 0;position: absolute;width: 1px;}#sk-container-id-4 div.sk-estimator {font-family: monospace;background-color: #f0f8ff;border: 1px dotted black;border-radius: 0.25em;box-sizing: border-box;margin-bottom: 0.5em;}#sk-container-id-4 div.sk-estimator:hover {background-color: #d4ebff;}#sk-container-id-4 div.sk-parallel-item::after {content: \"\";width: 100%;border-bottom: 1px solid gray;flex-grow: 1;}#sk-container-id-4 div.sk-label:hover label.sk-toggleable__label {background-color: #d4ebff;}#sk-container-id-4 div.sk-serial::before {content: \"\";position: absolute;border-left: 1px solid gray;box-sizing: border-box;top: 0;bottom: 0;left: 50%;z-index: 0;}#sk-container-id-4 div.sk-serial {display: flex;flex-direction: column;align-items: center;background-color: white;padding-right: 0.2em;padding-left: 0.2em;position: relative;}#sk-container-id-4 div.sk-item {position: relative;z-index: 1;}#sk-container-id-4 div.sk-parallel {display: flex;align-items: stretch;justify-content: center;background-color: white;position: relative;}#sk-container-id-4 div.sk-item::before, #sk-container-id-4 div.sk-parallel-item::before {content: \"\";position: absolute;border-left: 1px solid gray;box-sizing: border-box;top: 0;bottom: 0;left: 50%;z-index: -1;}#sk-container-id-4 div.sk-parallel-item {display: flex;flex-direction: column;z-index: 1;position: relative;background-color: white;}#sk-container-id-4 div.sk-parallel-item:first-child::after {align-self: flex-end;width: 50%;}#sk-container-id-4 div.sk-parallel-item:last-child::after {align-self: flex-start;width: 50%;}#sk-container-id-4 div.sk-parallel-item:only-child::after {width: 0;}#sk-container-id-4 div.sk-dashed-wrapped {border: 1px dashed gray;margin: 0 0.4em 0.5em 0.4em;box-sizing: border-box;padding-bottom: 0.4em;background-color: white;}#sk-container-id-4 div.sk-label label {font-family: monospace;font-weight: bold;display: inline-block;line-height: 1.2em;}#sk-container-id-4 div.sk-label-container {text-align: center;}#sk-container-id-4 div.sk-container {/* jupyter's `normalize.less` sets `[hidden] { display: none; }` but bootstrap.min.css set `[hidden] { display: none !important; }` so we also need the `!important` here to be able to override the default hidden behavior on the sphinx rendered scikit-learn.org. See: https://github.com/scikit-learn/scikit-learn/issues/21755 */display: inline-block !important;position: relative;}#sk-container-id-4 div.sk-text-repr-fallback {display: none;}</style><div id=\"sk-container-id-4\" class=\"sk-top-container\"><div class=\"sk-text-repr-fallback\"><pre>LinearRegression()</pre><b>In a Jupyter environment, please rerun this cell to show the HTML representation or trust the notebook. <br />On GitHub, the HTML representation is unable to render, please try loading this page with nbviewer.org.</b></div><div class=\"sk-container\" hidden><div class=\"sk-item\"><div class=\"sk-estimator sk-toggleable\"><input class=\"sk-toggleable__control sk-hidden--visually\" id=\"sk-estimator-id-4\" type=\"checkbox\" checked><label for=\"sk-estimator-id-4\" class=\"sk-toggleable__label sk-toggleable__label-arrow\">LinearRegression</label><div class=\"sk-toggleable__content\"><pre>LinearRegression()</pre></div></div></div></div></div>"
      ],
      "text/plain": [
       "LinearRegression()"
      ]
     },
     "execution_count": 242,
     "metadata": {},
     "output_type": "execute_result"
    }
   ],
   "source": [
    "# Fit the linear model with the given features\n",
    "lm.fit(features, target)"
   ]
  },
  {
   "cell_type": "code",
   "execution_count": 244,
   "id": "4f2fd13a-a283-49aa-b42a-940c7f5b199e",
   "metadata": {
    "tags": []
   },
   "outputs": [],
   "source": [
    "b0 = lm.intercept_"
   ]
  },
  {
   "cell_type": "code",
   "execution_count": 246,
   "id": "7fb34022-3360-4049-90bd-32691515fe0e",
   "metadata": {
    "tags": []
   },
   "outputs": [],
   "source": [
    "b1, b2 = lm.coef_"
   ]
  },
  {
   "cell_type": "code",
   "execution_count": 248,
   "id": "4ca43c5f-7ce8-4c43-938c-aed32e47815c",
   "metadata": {
    "tags": []
   },
   "outputs": [
    {
     "name": "stdout",
     "output_type": "stream",
     "text": [
      "Values\n",
      "b0: 36.739006054661886\n",
      "b1: 0.025206557752234512\n",
      "b2: -14.926638075724542\n"
     ]
    }
   ],
   "source": [
    "print(f\"Values\\nb0: {b0}\\nb1: {b1}\\nb2: {b2}\")"
   ]
  },
  {
   "cell_type": "markdown",
   "id": "38ca728a-fede-4611-9016-8ecab2cc69dc",
   "metadata": {},
   "source": [
    "#### Structure of Final Linear Function:\n",
    "\n",
    "$$\n",
    "y = b_0 + b_1x_1 + b_2x_2\n",
    "$$\n",
    "\n",
    "where: <br> \n",
    "$y$ = elapsed time <br>\n",
    "$b_0$ = slope intercept <br>\n",
    "$b_1$ = coefficient for data bytes <br>\n",
    "$b_2$ = OS type <br>"
   ]
  },
  {
   "cell_type": "code",
   "execution_count": 290,
   "id": "ca6ff69f-1593-4891-81d7-8b5363b20dac",
   "metadata": {},
   "outputs": [
    {
     "name": "stdout",
     "output_type": "stream",
     "text": [
      "Argus Per Byte Processing Cost: 36.76421261241412\n",
      "Unix Per Byte Processing Cost: 21.83757453668958\n"
     ]
    }
   ],
   "source": [
    "argus_y = 36.739006054661886 + (1 * 0.025206557752234512) + (0*-14.926638075724542)\n",
    "unix_y = 36.739006054661886 + (1 * 0.025206557752234512) + (1*-14.926638075724542)\n",
    "\n",
    "print(f\"Argus Per Byte Processing Cost: {argus_y}\\nUnix Per Byte Processing Cost: {unix_y}\")"
   ]
  },
  {
   "cell_type": "markdown",
   "id": "9e03daf5-4895-48fa-8956-27c133803695",
   "metadata": {},
   "source": [
    "## Model Evaluation with Visualization"
   ]
  },
  {
   "cell_type": "markdown",
   "id": "8d5b1ba5-7783-4322-bcc2-78cbb5b406fe",
   "metadata": {},
   "source": [
    "### Import libraries"
   ]
  },
  {
   "cell_type": "code",
   "execution_count": 255,
   "id": "49fa28a3-5095-4ea9-a69d-fe934341d961",
   "metadata": {
    "tags": []
   },
   "outputs": [],
   "source": [
    "import seaborn as sns\n",
    "import matplotlib.pyplot as plt\n",
    "%matplotlib inline "
   ]
  },
  {
   "cell_type": "code",
   "execution_count": 257,
   "id": "a23f521b-1b35-4f9a-aaac-aa32b8641270",
   "metadata": {
    "tags": []
   },
   "outputs": [],
   "source": [
    "# make prediction first \n",
    "y_hat = lm.predict(features)"
   ]
  },
  {
   "cell_type": "code",
   "execution_count": 313,
   "id": "105a7e96-6b37-4647-b630-90d0af2dc9bf",
   "metadata": {
    "tags": []
   },
   "outputs": [
    {
     "name": "stderr",
     "output_type": "stream",
     "text": [
      "C:\\Users\\daeni\\AppData\\Local\\Temp\\ipykernel_9948\\2326901344.py:4: UserWarning: \n",
      "\n",
      "`distplot` is a deprecated function and will be removed in seaborn v0.14.0.\n",
      "\n",
      "Please adapt your code to use either `displot` (a figure-level function with\n",
      "similar flexibility) or `kdeplot` (an axes-level function for kernel density plots).\n",
      "\n",
      "For a guide to updating your code to use the new functions, please see\n",
      "https://gist.github.com/mwaskom/de44147ed2974457ad6372750bbe5751\n",
      "\n",
      "  ax1 = sns.distplot(df['Time'], hist=False, color=\"#692c75\", label=\"Actual Value\")\n",
      "C:\\Users\\daeni\\AppData\\Local\\Temp\\ipykernel_9948\\2326901344.py:5: UserWarning: \n",
      "\n",
      "`distplot` is a deprecated function and will be removed in seaborn v0.14.0.\n",
      "\n",
      "Please adapt your code to use either `displot` (a figure-level function with\n",
      "similar flexibility) or `kdeplot` (an axes-level function for kernel density plots).\n",
      "\n",
      "For a guide to updating your code to use the new functions, please see\n",
      "https://gist.github.com/mwaskom/de44147ed2974457ad6372750bbe5751\n",
      "\n",
      "  sns.distplot(y_hat, hist=False, color=\"#de7270\", label=\"Fitted Values\" , ax=ax1)\n"
     ]
    },
    {
     "data": {
      "image/png": "[encoded data removed]",
      "text/plain": [
       "<Figure size 1200x1000 with 1 Axes>"
      ]
     },
     "metadata": {},
     "output_type": "display_data"
    }
   ],
   "source": [
    "plt.figure(figsize=(12, 10))\n",
    "\n",
    "\n",
    "ax1 = sns.distplot(df['Time'], hist=False, color=\"#692c75\", label=\"Actual Value\")\n",
    "sns.distplot(y_hat, hist=False, color=\"#de7270\", label=\"Fitted Values\" , ax=ax1)\n",
    "\n",
    "ax1.legend()\n",
    "\n",
    "plt.title('Actual vs Fitted Values for Time')\n",
    "plt.xlabel('Time')\n",
    "plt.ylabel('Feature Proportions')\n",
    "\n",
    "plt.savefig(\"actual_vs_fitted_values_for_time.png\")\n",
    "\n",
    "plt.show()\n",
    "plt.close()"
   ]
  },
  {
   "cell_type": "markdown",
   "id": "4a12c23a-e1f8-4a84-9e05-a9dfd6227877",
   "metadata": {},
   "source": [
    "## In-Sample Evaluation"
   ]
  },
  {
   "cell_type": "code",
   "execution_count": 262,
   "id": "7edba425-dad0-4504-bc07-c270d41ab894",
   "metadata": {
    "tags": []
   },
   "outputs": [
    {
     "data": {
      "text/html": [
       "<div>\n",
       "<style scoped>\n",
       "    .dataframe tbody tr th:only-of-type {\n",
       "        vertical-align: middle;\n",
       "    }\n",
       "\n",
       "    .dataframe tbody tr th {\n",
       "        vertical-align: top;\n",
       "    }\n",
       "\n",
       "    .dataframe thead th {\n",
       "        text-align: right;\n",
       "    }\n",
       "</style>\n",
       "<table border=\"1\" class=\"dataframe\">\n",
       "  <thead>\n",
       "    <tr style=\"text-align: right;\">\n",
       "      <th></th>\n",
       "      <th>Unnamed: 0</th>\n",
       "      <th>Data Bytes</th>\n",
       "      <th>Time</th>\n",
       "      <th>OS</th>\n",
       "    </tr>\n",
       "  </thead>\n",
       "  <tbody>\n",
       "    <tr>\n",
       "      <th>Unnamed: 0</th>\n",
       "      <td>1.000000e+00</td>\n",
       "      <td>0.928008</td>\n",
       "      <td>0.573303</td>\n",
       "      <td>-3.651933e-17</td>\n",
       "    </tr>\n",
       "    <tr>\n",
       "      <th>Data Bytes</th>\n",
       "      <td>9.280082e-01</td>\n",
       "      <td>1.000000</td>\n",
       "      <td>0.732802</td>\n",
       "      <td>-2.231989e-02</td>\n",
       "    </tr>\n",
       "    <tr>\n",
       "      <th>Time</th>\n",
       "      <td>5.733034e-01</td>\n",
       "      <td>0.732802</td>\n",
       "      <td>1.000000</td>\n",
       "      <td>-4.933593e-01</td>\n",
       "    </tr>\n",
       "    <tr>\n",
       "      <th>OS</th>\n",
       "      <td>-3.651933e-17</td>\n",
       "      <td>-0.022320</td>\n",
       "      <td>-0.493359</td>\n",
       "      <td>1.000000e+00</td>\n",
       "    </tr>\n",
       "  </tbody>\n",
       "</table>\n",
       "</div>"
      ],
      "text/plain": [
       "              Unnamed: 0  Data Bytes      Time            OS\n",
       "Unnamed: 0  1.000000e+00    0.928008  0.573303 -3.651933e-17\n",
       "Data Bytes  9.280082e-01    1.000000  0.732802 -2.231989e-02\n",
       "Time        5.733034e-01    0.732802  1.000000 -4.933593e-01\n",
       "OS         -3.651933e-17   -0.022320 -0.493359  1.000000e+00"
      ]
     },
     "execution_count": 262,
     "metadata": {},
     "output_type": "execute_result"
    }
   ],
   "source": [
    "df.corr()"
   ]
  },
  {
   "cell_type": "markdown",
   "id": "82c095bb-e9b3-48b9-93a1-73d03e9d7e0e",
   "metadata": {},
   "source": [
    "### Calculating the R-Squared"
   ]
  },
  {
   "cell_type": "code",
   "execution_count": 265,
   "id": "fce8027a-e543-4b44-86f5-d5286607d4c8",
   "metadata": {
    "tags": []
   },
   "outputs": [
    {
     "data": {
      "text/plain": [
       "0.764643674084501"
      ]
     },
     "execution_count": 265,
     "metadata": {},
     "output_type": "execute_result"
    }
   ],
   "source": [
    "lm.score(features, target)"
   ]
  },
  {
   "cell_type": "markdown",
   "id": "1a6b3367-5c99-4ee4-b1d5-02543abb11fb",
   "metadata": {},
   "source": [
    "$R^2 = 0.7646436740845011$ "
   ]
  },
  {
   "cell_type": "code",
   "execution_count": 268,
   "id": "2c4e2ba8-b489-4cd4-b9b2-3254d99014d8",
   "metadata": {
    "tags": []
   },
   "outputs": [
    {
     "data": {
      "text/plain": [
       "0.744177906613588"
      ]
     },
     "execution_count": 268,
     "metadata": {},
     "output_type": "execute_result"
    }
   ],
   "source": [
    "# Adjusted R-squared\n",
    "1 - (1-lm.score(features, target))*(len(target)-1)/(len(target)-features.shape[1]-1)"
   ]
  },
  {
   "cell_type": "markdown",
   "id": "9a1a491c-7fea-4727-beca-e9b9451d8458",
   "metadata": {},
   "source": [
    "### Calculating the Mean-Squared Error"
   ]
  },
  {
   "cell_type": "code",
   "execution_count": 271,
   "id": "39e5ef17-4088-4b8d-9388-9fa5e7b99619",
   "metadata": {
    "tags": []
   },
   "outputs": [],
   "source": [
    "y_hat = lm.predict(features)"
   ]
  },
  {
   "cell_type": "code",
   "execution_count": 273,
   "id": "7f8d07e4-efd9-4192-9c1c-472c7ada922b",
   "metadata": {
    "tags": []
   },
   "outputs": [
    {
     "data": {
      "text/plain": [
       "57.55914693177915"
      ]
     },
     "execution_count": 273,
     "metadata": {},
     "output_type": "execute_result"
    }
   ],
   "source": [
    "mse = mean_squared_error(df['Time'], y_hat)\n",
    "mse"
   ]
  },
  {
   "cell_type": "markdown",
   "id": "1ad68028-ea5f-46ed-af57-b6e53df85da3",
   "metadata": {
    "tags": []
   },
   "source": [
    "$MSE: 57.55914693177913$"
   ]
  },
  {
   "cell_type": "code",
   "execution_count": 315,
   "id": "2b540dd9-3174-41ba-a2f4-becdc62142c9",
   "metadata": {
    "tags": []
   },
   "outputs": [],
   "source": [
    "import statsmodels.api as sm"
   ]
  },
  {
   "cell_type": "code",
   "execution_count": 278,
   "id": "87b0c911-be2d-4d9b-b14a-f1ebc6568546",
   "metadata": {
    "tags": []
   },
   "outputs": [
    {
     "name": "stdout",
     "output_type": "stream",
     "text": [
      "                            OLS Regression Results                            \n",
      "==============================================================================\n",
      "Dep. Variable:                   Time   R-squared:                       0.765\n",
      "Model:                            OLS   Adj. R-squared:                  0.744\n",
      "Method:                 Least Squares   F-statistic:                     37.36\n",
      "Date:                Fri, 26 Apr 2024   Prob (F-statistic):           5.95e-08\n",
      "Time:                        22:04:46   Log-Likelihood:                -89.579\n",
      "No. Observations:                  26   AIC:                             185.2\n",
      "Df Residuals:                      23   BIC:                             188.9\n",
      "Df Model:                           2                                         \n",
      "Covariance Type:            nonrobust                                         \n",
      "==============================================================================\n",
      "                 coef    std err          t      P>|t|      [0.025      0.975]\n",
      "------------------------------------------------------------------------------\n",
      "const         36.7390      3.251     11.302      0.000      30.015      43.463\n",
      "Data Bytes     0.0252      0.004      7.137      0.000       0.018       0.033\n",
      "OS           -14.9266      3.165     -4.717      0.000     -21.473      -8.380\n",
      "==============================================================================\n",
      "Omnibus:                        6.001   Durbin-Watson:                   0.636\n",
      "Prob(Omnibus):                  0.050   Jarque-Bera (JB):                4.814\n",
      "Skew:                           1.052   Prob(JB):                       0.0901\n",
      "Kurtosis:                       3.139   Cond. No.                     1.98e+03\n",
      "==============================================================================\n",
      "\n",
      "Notes:\n",
      "[1] Standard Errors assume that the covariance matrix of the errors is correctly specified.\n",
      "[2] The condition number is large, 1.98e+03. This might indicate that there are\n",
      "strong multicollinearity or other numerical problems.\n"
     ]
    }
   ],
   "source": [
    "# adds the intercept since it is not built in the sm library\n",
    "X = sm.add_constant(features)\n",
    "model = sm.OLS(target, X).fit()\n",
    "\n",
    "# Get summary of the model results\n",
    "summary = model.summary()\n",
    "\n",
    "# Print the p-values for the coefficients (look for 'P>|t|' column)\n",
    "print(summary)"
   ]
  },
  {
   "cell_type": "code",
   "execution_count": null,
   "id": "27a65ba2-c0a6-497c-8fb8-4fe77044d150",
   "metadata": {},
   "outputs": [],
   "source": []
  }
 ],
 "metadata": {
  "kernelspec": {
   "display_name": "Python 3 (ipykernel)",
   "language": "python",
   "name": "python3"
  },
  "language_info": {
   "codemirror_mode": {
    "name": "ipython",
    "version": 3
   },
   "file_extension": ".py",
   "mimetype": "text/x-python",
   "name": "python",
   "nbconvert_exporter": "python",
   "pygments_lexer": "ipython3",
   "version": "3.11.4"
  }
 },
 "nbformat": 4,
 "nbformat_minor": 5
}
