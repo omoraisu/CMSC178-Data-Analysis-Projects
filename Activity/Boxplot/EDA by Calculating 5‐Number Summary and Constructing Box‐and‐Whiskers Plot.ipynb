{
 "cells": [
  {
   "cell_type": "markdown",
   "id": "9a45f012-39dc-414e-883a-ef0e2426f8d9",
   "metadata": {},
   "source": [
    "**CMSC178DA**\n",
    "# ACTIVITY 2: EDA by Calculating 5‐Number Summary and Constructing Box‐and‐Whiskers Plot <br>"
   ]
  },
  {
   "cell_type": "markdown",
   "id": "c47e421c-0538-43ea-b3ef-8d490184eaac",
   "metadata": {},
   "source": [
    "## Submitted by:"
   ]
  },
  {
   "cell_type": "markdown",
   "id": "17b73170-2647-408a-921e-7713a1f5b14c",
   "metadata": {},
   "source": [
    "Peladas, Daenielle Rai A. <br>\n",
    "Section B - TF 10:30 AM - 12:00 AM"
   ]
  },
  {
   "cell_type": "markdown",
   "id": "1eaee022-08db-4437-a9d7-9df921cb86fc",
   "metadata": {},
   "source": [
    "---"
   ]
  },
  {
   "cell_type": "markdown",
   "id": "1e15e170-6c02-4594-b79d-dbe31b978ea4",
   "metadata": {},
   "source": [
    "## The Case "
   ]
  },
  {
   "cell_type": "markdown",
   "id": "9aa42c89-bf36-4eb1-add8-a453e61bf258",
   "metadata": {},
   "source": [
    "A data analyst was given the task by the head of office to look into the stability of the network\n",
    "connections in two (2) locations of their office. She gathered the following samples of data for\n",
    "round‐trip transit times (also known colloquially as “pings”) from the two locations: \n",
    "<br>\n",
    "\n",
    "**Location I:** 1.6, 4.0, 3.6, 4.8, 4.2, 3.4, 5.4, 3.5, 2.8, 2.1, 3.1, 3.3, 2.2, 4.4, 4.8 seconds <br>\n",
    "**Location II:** 3.0, 6.7, 3.9, 7.9, 4.7, 7.1, 0.5, 1.7, 6.6, 1.1, 2.0, 0.4 seconds \n",
    "<br>\n",
    "\n",
    "*The data analyst poses this question to himself: which of the two (2) locations in their office has\n",
    "an unstable network connection?*"
   ]
  },
  {
   "cell_type": "markdown",
   "id": "789c0ef5-a84e-4618-83f6-7b46147a1e79",
   "metadata": {},
   "source": [
    "---"
   ]
  },
  {
   "cell_type": "markdown",
   "id": "dbd833c3-a9d7-42bc-889f-60ecfd8bde85",
   "metadata": {},
   "source": [
    "## The 5-Number Summary"
   ]
  },
  {
   "cell_type": "markdown",
   "id": "af700428-93eb-445b-bd57-915be68639fa",
   "metadata": {},
   "source": [
    "### Calculations"
   ]
  },
  {
   "cell_type": "code",
   "execution_count": 1,
   "id": "0efba94f-95d1-42d5-b21b-308767ac119f",
   "metadata": {},
   "outputs": [],
   "source": [
    "import pandas as pd"
   ]
  },
  {
   "cell_type": "code",
   "execution_count": 12,
   "id": "ad8473ac-d578-4f59-81ec-cecb17461921",
   "metadata": {},
   "outputs": [],
   "source": [
    "ping_location_1 = {\"Location 1\": [1.6, 4.0, 3.6, 4.8, 4.2, 3.4, 5.4, 3.5, 2.8, 2.1, 3.1, 3.3, 2.2, 4.4, 4.8]}\n",
    "ping_location_2 = {\"Location 2\": [3.0, 6.7, 3.9, 7.9, 4.7, 7.1, 0.5, 1.7, 6.6, 1.1, 2.0, 0.4]}"
   ]
  },
  {
   "cell_type": "code",
   "execution_count": 13,
   "id": "7288be11-4f18-41e1-8c34-ce4814b549ec",
   "metadata": {},
   "outputs": [],
   "source": [
    "df_loc1 = pd.DataFrame(ping_location_1)\n",
    "df_loc2 = pd.DataFrame(ping_location_2)"
   ]
  },
  {
   "cell_type": "code",
   "execution_count": 14,
   "id": "3814d277-e1c6-4cbe-a4bf-87cc681b2d49",
   "metadata": {},
   "outputs": [
    {
     "data": {
      "text/html": [
       "<div>\n",
       "<style scoped>\n",
       "    .dataframe tbody tr th:only-of-type {\n",
       "        vertical-align: middle;\n",
       "    }\n",
       "\n",
       "    .dataframe tbody tr th {\n",
       "        vertical-align: top;\n",
       "    }\n",
       "\n",
       "    .dataframe thead th {\n",
       "        text-align: right;\n",
       "    }\n",
       "</style>\n",
       "<table border=\"1\" class=\"dataframe\">\n",
       "  <thead>\n",
       "    <tr style=\"text-align: right;\">\n",
       "      <th></th>\n",
       "      <th>Location 1</th>\n",
       "    </tr>\n",
       "  </thead>\n",
       "  <tbody>\n",
       "    <tr>\n",
       "      <th>mean</th>\n",
       "      <td>3.546667</td>\n",
       "    </tr>\n",
       "    <tr>\n",
       "      <th>min</th>\n",
       "      <td>1.600000</td>\n",
       "    </tr>\n",
       "    <tr>\n",
       "      <th>25%</th>\n",
       "      <td>2.950000</td>\n",
       "    </tr>\n",
       "    <tr>\n",
       "      <th>50%</th>\n",
       "      <td>3.500000</td>\n",
       "    </tr>\n",
       "    <tr>\n",
       "      <th>75%</th>\n",
       "      <td>4.300000</td>\n",
       "    </tr>\n",
       "    <tr>\n",
       "      <th>max</th>\n",
       "      <td>5.400000</td>\n",
       "    </tr>\n",
       "  </tbody>\n",
       "</table>\n",
       "</div>"
      ],
      "text/plain": [
       "      Location 1\n",
       "mean    3.546667\n",
       "min     1.600000\n",
       "25%     2.950000\n",
       "50%     3.500000\n",
       "75%     4.300000\n",
       "max     5.400000"
      ]
     },
     "execution_count": 14,
     "metadata": {},
     "output_type": "execute_result"
    }
   ],
   "source": [
    "df_loc1.describe().loc[['mean', 'min', '25%', '50%', '75%', 'max']]"
   ]
  },
  {
   "cell_type": "code",
   "execution_count": 15,
   "id": "bd36ff96-3e68-4067-a863-f723fed5afbd",
   "metadata": {},
   "outputs": [
    {
     "data": {
      "text/html": [
       "<div>\n",
       "<style scoped>\n",
       "    .dataframe tbody tr th:only-of-type {\n",
       "        vertical-align: middle;\n",
       "    }\n",
       "\n",
       "    .dataframe tbody tr th {\n",
       "        vertical-align: top;\n",
       "    }\n",
       "\n",
       "    .dataframe thead th {\n",
       "        text-align: right;\n",
       "    }\n",
       "</style>\n",
       "<table border=\"1\" class=\"dataframe\">\n",
       "  <thead>\n",
       "    <tr style=\"text-align: right;\">\n",
       "      <th></th>\n",
       "      <th>Location 2</th>\n",
       "    </tr>\n",
       "  </thead>\n",
       "  <tbody>\n",
       "    <tr>\n",
       "      <th>mean</th>\n",
       "      <td>3.800</td>\n",
       "    </tr>\n",
       "    <tr>\n",
       "      <th>min</th>\n",
       "      <td>0.400</td>\n",
       "    </tr>\n",
       "    <tr>\n",
       "      <th>25%</th>\n",
       "      <td>1.550</td>\n",
       "    </tr>\n",
       "    <tr>\n",
       "      <th>50%</th>\n",
       "      <td>3.450</td>\n",
       "    </tr>\n",
       "    <tr>\n",
       "      <th>75%</th>\n",
       "      <td>6.625</td>\n",
       "    </tr>\n",
       "    <tr>\n",
       "      <th>max</th>\n",
       "      <td>7.900</td>\n",
       "    </tr>\n",
       "  </tbody>\n",
       "</table>\n",
       "</div>"
      ],
      "text/plain": [
       "      Location 2\n",
       "mean       3.800\n",
       "min        0.400\n",
       "25%        1.550\n",
       "50%        3.450\n",
       "75%        6.625\n",
       "max        7.900"
      ]
     },
     "execution_count": 15,
     "metadata": {},
     "output_type": "execute_result"
    }
   ],
   "source": [
    "df_loc2.describe().loc[['mean', 'min', '25%', '50%', '75%', 'max']]"
   ]
  },
  {
   "cell_type": "code",
   "execution_count": 16,
   "id": "d5a9b107-24ab-4848-8979-044785153de6",
   "metadata": {},
   "outputs": [
    {
     "data": {
      "text/html": [
       "<div>\n",
       "<style scoped>\n",
       "    .dataframe tbody tr th:only-of-type {\n",
       "        vertical-align: middle;\n",
       "    }\n",
       "\n",
       "    .dataframe tbody tr th {\n",
       "        vertical-align: top;\n",
       "    }\n",
       "\n",
       "    .dataframe thead th {\n",
       "        text-align: right;\n",
       "    }\n",
       "</style>\n",
       "<table border=\"1\" class=\"dataframe\">\n",
       "  <thead>\n",
       "    <tr style=\"text-align: right;\">\n",
       "      <th></th>\n",
       "      <th>Location 1</th>\n",
       "      <th>Location 2</th>\n",
       "    </tr>\n",
       "  </thead>\n",
       "  <tbody>\n",
       "    <tr>\n",
       "      <th>0</th>\n",
       "      <td>1.6</td>\n",
       "      <td>3.0</td>\n",
       "    </tr>\n",
       "    <tr>\n",
       "      <th>1</th>\n",
       "      <td>4.0</td>\n",
       "      <td>6.7</td>\n",
       "    </tr>\n",
       "    <tr>\n",
       "      <th>2</th>\n",
       "      <td>3.6</td>\n",
       "      <td>3.9</td>\n",
       "    </tr>\n",
       "    <tr>\n",
       "      <th>3</th>\n",
       "      <td>4.8</td>\n",
       "      <td>7.9</td>\n",
       "    </tr>\n",
       "    <tr>\n",
       "      <th>4</th>\n",
       "      <td>4.2</td>\n",
       "      <td>4.7</td>\n",
       "    </tr>\n",
       "    <tr>\n",
       "      <th>5</th>\n",
       "      <td>3.4</td>\n",
       "      <td>7.1</td>\n",
       "    </tr>\n",
       "    <tr>\n",
       "      <th>6</th>\n",
       "      <td>5.4</td>\n",
       "      <td>0.5</td>\n",
       "    </tr>\n",
       "    <tr>\n",
       "      <th>7</th>\n",
       "      <td>3.5</td>\n",
       "      <td>1.7</td>\n",
       "    </tr>\n",
       "    <tr>\n",
       "      <th>8</th>\n",
       "      <td>2.8</td>\n",
       "      <td>6.6</td>\n",
       "    </tr>\n",
       "    <tr>\n",
       "      <th>9</th>\n",
       "      <td>2.1</td>\n",
       "      <td>1.1</td>\n",
       "    </tr>\n",
       "    <tr>\n",
       "      <th>10</th>\n",
       "      <td>3.1</td>\n",
       "      <td>2.0</td>\n",
       "    </tr>\n",
       "    <tr>\n",
       "      <th>11</th>\n",
       "      <td>3.3</td>\n",
       "      <td>0.4</td>\n",
       "    </tr>\n",
       "    <tr>\n",
       "      <th>12</th>\n",
       "      <td>2.2</td>\n",
       "      <td>NaN</td>\n",
       "    </tr>\n",
       "    <tr>\n",
       "      <th>13</th>\n",
       "      <td>4.4</td>\n",
       "      <td>NaN</td>\n",
       "    </tr>\n",
       "    <tr>\n",
       "      <th>14</th>\n",
       "      <td>4.8</td>\n",
       "      <td>NaN</td>\n",
       "    </tr>\n",
       "  </tbody>\n",
       "</table>\n",
       "</div>"
      ],
      "text/plain": [
       "    Location 1  Location 2\n",
       "0          1.6         3.0\n",
       "1          4.0         6.7\n",
       "2          3.6         3.9\n",
       "3          4.8         7.9\n",
       "4          4.2         4.7\n",
       "5          3.4         7.1\n",
       "6          5.4         0.5\n",
       "7          3.5         1.7\n",
       "8          2.8         6.6\n",
       "9          2.1         1.1\n",
       "10         3.1         2.0\n",
       "11         3.3         0.4\n",
       "12         2.2         NaN\n",
       "13         4.4         NaN\n",
       "14         4.8         NaN"
      ]
     },
     "execution_count": 16,
     "metadata": {},
     "output_type": "execute_result"
    }
   ],
   "source": [
    "df_combined = pd.concat([df_loc1, df_loc2], axis=1)\n",
    "df_combined"
   ]
  },
  {
   "cell_type": "markdown",
   "id": "813a6427-c02b-426e-9aa9-855a47108b34",
   "metadata": {},
   "source": [
    "### Steps taken"
   ]
  },
  {
   "cell_type": "markdown",
   "id": "3aaa35f3-ddf1-4504-8b45-b763cfbdfeb8",
   "metadata": {},
   "source": [
    "- Import the pandas library\n",
    "- Input the provided data on the ping rates between the two locations in a dictionary\n",
    "- Convert the said dictionary into two separate dataframes through pandas\n"
   ]
  },
  {
   "cell_type": "markdown",
   "id": "f98a35b9-048e-4949-8633-49f9c61338c9",
   "metadata": {},
   "source": [
    "---"
   ]
  },
  {
   "cell_type": "markdown",
   "id": "daa207de-3f11-4e4e-9f49-f4e12382910f",
   "metadata": {},
   "source": [
    "## The Box-and-Whiskers Plot"
   ]
  },
  {
   "cell_type": "markdown",
   "id": "ad1c7ba6-afbb-414b-a56a-1e3a668e9e9a",
   "metadata": {},
   "source": [
    "### Generated Boxplot"
   ]
  },
  {
   "cell_type": "code",
   "execution_count": 21,
   "id": "ca36840a-3ae5-4f88-9304-31d767339db6",
   "metadata": {},
   "outputs": [],
   "source": [
    "import seaborn as sns\n",
    "import matplotlib.pyplot as plt"
   ]
  },
  {
   "cell_type": "code",
   "execution_count": 46,
   "id": "61450b8f-2eda-42c4-a73b-990fb32087e0",
   "metadata": {},
   "outputs": [
    {
     "data": {
      "image/png": "[encoded data removed]",
      "text/plain": [
       "<Figure size 640x480 with 1 Axes>"
      ]
     },
     "metadata": {},
     "output_type": "display_data"
    },
    {
     "data": {
      "text/plain": [
       "<Figure size 1500x2500 with 0 Axes>"
      ]
     },
     "metadata": {},
     "output_type": "display_data"
    }
   ],
   "source": [
    "sns.boxplot(data=df_combined, width = 0.2, palette = 'magma')\n",
    "plt.title(\"Comparison of Network Round-Trip Times (RTTs) Between Two Locations\")\n",
    "plt.ylabel(\"Ping Rate\")\n",
    "plt.figure(figsize=(15,25))\n",
    "plt.show()\n",
    "fig1.savefig(\"boxplot.png\")"
   ]
  },
  {
   "cell_type": "markdown",
   "id": "b075ac4e-5c50-4a05-9532-e4818f26008a",
   "metadata": {},
   "source": [
    "### Narrative"
   ]
  },
  {
   "cell_type": "markdown",
   "id": "c3a74c28-dfee-4866-93e4-003581ba26ef",
   "metadata": {},
   "source": [
    "---"
   ]
  },
  {
   "cell_type": "markdown",
   "id": "bce7bbe4-eb28-4ce6-bb70-fdad188ffe2f",
   "metadata": {},
   "source": [
    "## Interpretation"
   ]
  }
 ],
 "metadata": {
  "kernelspec": {
   "display_name": "Python 3 (ipykernel)",
   "language": "python",
   "name": "python3"
  },
  "language_info": {
   "codemirror_mode": {
    "name": "ipython",
    "version": 3
   },
   "file_extension": ".py",
   "mimetype": "text/x-python",
   "name": "python",
   "nbconvert_exporter": "python",
   "pygments_lexer": "ipython3",
   "version": "3.11.4"
  }
 },
 "nbformat": 4,
 "nbformat_minor": 5
}
